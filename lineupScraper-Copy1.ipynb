{
 "cells": [
  {
   "cell_type": "markdown",
   "metadata": {},
   "source": [
    "Note: a game has 2880 seconds. The pixel count on basketball reference is 1005, leaving a tolerance of ~+/- 3 seconds.\n",
    "This is unacceptable for the type of work we're doing, so this code will not be leveraged going forward.\n",
    "--------------------------------------------------------------------------------------------------------\n",
    "It has been integrated into the PlayByPlayData"
   ]
  },
  {
   "cell_type": "code",
   "execution_count": 76,
   "metadata": {},
   "outputs": [],
   "source": [
    "import requests\n",
    "from bs4 import BeautifulSoup\n",
    "import pandas as pd"
   ]
  },
  {
   "cell_type": "code",
   "execution_count": 77,
   "metadata": {},
   "outputs": [],
   "source": [
    "def make_soup(url):\n",
    "    page = requests.get(url)\n",
    "    soup = BeautifulSoup(page.text, 'html.parser')\n",
    "    return soup"
   ]
  },
  {
   "cell_type": "code",
   "execution_count": 78,
   "metadata": {},
   "outputs": [],
   "source": [
    "soup = make_soup('https://www.basketball-reference.com/boxscores/plus-minus/202012220BRK.html')"
   ]
  },
  {
   "cell_type": "code",
   "execution_count": 79,
   "metadata": {},
   "outputs": [],
   "source": [
    "lineup = [name.getText() for name in soup.find_all('div', {'class': 'player'})]\n",
    "lineup = [player[:player.index(' (')] for player in lineup]"
   ]
  },
  {
   "cell_type": "code",
   "execution_count": 126,
   "metadata": {},
   "outputs": [
    {
     "name": "stdout",
     "output_type": "stream",
     "text": [
      "[2160.0, 1805.76, 1440.0, 720.0, 2.8800000000000026]\n"
     ]
    }
   ],
   "source": [
    "playerCourtTime = [playerData for playerData in soup.find_all('div', {'class': 'player-plusminus'})]\n",
    "#Note the below code is for the 10th player [9] in the list\n",
    "playerCourtTime = [duration['style'] for duration in playerCourtTime[0].find_all('div')]\n",
    "playerCourtTime = [(int(item.replace('width:','').replace('px;',''))) for item in playerCourtTime]\n",
    "def cumilative_sum(lst):\n",
    "    result = []\n",
    "    nBorder = 0\n",
    "    for i in range(len(lst)):\n",
    "        result.append(2880*sum(lst[:i+1])/(1005-len(lst)))\n",
    "    return result\n",
    "\n",
    "playerCourtTime = cumilative_sum(playerCourtTime)\n",
    "print(playerCourtTime)"
   ]
  },
  {
   "cell_type": "code",
   "execution_count": 124,
   "metadata": {},
   "outputs": [],
   "source": [
    "playerCourtTime2 = [playerData for playerData in soup.find_all('div', {'class': 'player-plusminus'})]\n",
    "playerCourtTime2 = [item.getText() for item in playerCourtTime2[1].find_all('div')]\n",
    "\n",
    "for i in range(len(playerCourtTime2)):\n",
    "    if playerCourtTime2[i].find('\\xa0') == -1:\n",
    "        playerCourtTime2[i] = 'ON'\n",
    "    else:\n",
    "        playerCourtTime2[i] = 'OFF'"
   ]
  },
  {
   "cell_type": "code",
   "execution_count": 125,
   "metadata": {},
   "outputs": [
    {
     "name": "stdout",
     "output_type": "stream",
     "text": [
      "[(720.0, 'ON'), (1074.24, 'OFF'), (1440.0, 'ON'), (2160.0, 'ON'), (2877.12, 'OFF')]\n"
     ]
    }
   ],
   "source": [
    "print(list(zip(playerCourtTime,playerCourtTime2)))"
   ]
  }
 ],
 "metadata": {
  "kernelspec": {
   "display_name": "Python 3",
   "language": "python",
   "name": "python3"
  },
  "language_info": {
   "codemirror_mode": {
    "name": "ipython",
    "version": 3
   },
   "file_extension": ".py",
   "mimetype": "text/x-python",
   "name": "python",
   "nbconvert_exporter": "python",
   "pygments_lexer": "ipython3",
   "version": "3.9.1"
  }
 },
 "nbformat": 4,
 "nbformat_minor": 4
}
